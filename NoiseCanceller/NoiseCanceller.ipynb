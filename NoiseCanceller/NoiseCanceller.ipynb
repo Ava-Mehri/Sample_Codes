{
  "nbformat": 4,
  "nbformat_minor": 0,
  "metadata": {
    "colab": {
      "name": "NoiseCanceller.ipynb",
      "provenance": [],
      "collapsed_sections": []
    },
    "kernelspec": {
      "name": "python3",
      "display_name": "Python 3"
    },
    "language_info": {
      "name": "python"
    }
  },
  "cells": [
    {
      "cell_type": "code",
      "metadata": {
        "id": "pid-n2lv4U80"
      },
      "source": [
        "!pip install pycorrelate"
      ],
      "execution_count": null,
      "outputs": []
    },
    {
      "cell_type": "code",
      "metadata": {
        "id": "YHTswsY9iXVp"
      },
      "source": [
        "from scipy.io import wavfile\n",
        "from scipy import signal as sig\n",
        "from scipy.linalg import toeplitz\n",
        "import numpy as np\n",
        "import pycorrelate as pyc"
      ],
      "execution_count": 231,
      "outputs": []
    },
    {
      "cell_type": "code",
      "metadata": {
        "id": "i2-_i_6LlPkN"
      },
      "source": [
        "Fs, signal = wavfile.read('Abr.wav')"
      ],
      "execution_count": 232,
      "outputs": []
    },
    {
      "cell_type": "code",
      "metadata": {
        "colab": {
          "base_uri": "https://localhost:8080/"
        },
        "id": "mMOghdkYliGH",
        "outputId": "25425348-91e0-4be7-c528-1b3b52924362"
      },
      "source": [
        "signal_len = len(signal)\n",
        "signal_len"
      ],
      "execution_count": 233,
      "outputs": [
        {
          "output_type": "execute_result",
          "data": {
            "text/plain": [
              "10812144"
            ]
          },
          "metadata": {
            "tags": []
          },
          "execution_count": 233
        }
      ]
    },
    {
      "cell_type": "code",
      "metadata": {
        "id": "eJrscXJRMYT1"
      },
      "source": [
        "signal = np.array(signal[0:14000, 1])\n",
        "L = len(signal)"
      ],
      "execution_count": 234,
      "outputs": []
    },
    {
      "cell_type": "code",
      "metadata": {
        "id": "W8jTZuBkir-a"
      },
      "source": [
        "signal = signal/max(signal)"
      ],
      "execution_count": 235,
      "outputs": []
    },
    {
      "cell_type": "code",
      "metadata": {
        "id": "4JIGDDg7ojhR"
      },
      "source": [
        "var = 0.1\n",
        "noise = np.sqrt(var)*np.random.normal(size=L)"
      ],
      "execution_count": 236,
      "outputs": []
    },
    {
      "cell_type": "code",
      "metadata": {
        "id": "IEalzg8iosGy"
      },
      "source": [
        "noisySig = signal + noise;"
      ],
      "execution_count": 237,
      "outputs": []
    },
    {
      "cell_type": "code",
      "metadata": {
        "id": "hT6ASDhHq04U"
      },
      "source": [
        "wavfile.write('noisy_Abr.wav', Fs, noisySig)"
      ],
      "execution_count": 238,
      "outputs": []
    },
    {
      "cell_type": "code",
      "metadata": {
        "id": "s_vVKWWIuZdm"
      },
      "source": [
        "n = 100"
      ],
      "execution_count": 239,
      "outputs": []
    },
    {
      "cell_type": "code",
      "metadata": {
        "id": "j-AJHU9cuzTX"
      },
      "source": [
        "p = np.zeros((n, 1))\n",
        "p[0] = var\n",
        "#p = np.asmatrix(p)"
      ],
      "execution_count": 240,
      "outputs": []
    },
    {
      "cell_type": "code",
      "metadata": {
        "id": "RSyAR_VZ4HxX"
      },
      "source": [
        "R = sig.correlate(noise, noise)"
      ],
      "execution_count": 241,
      "outputs": []
    },
    {
      "cell_type": "code",
      "metadata": {
        "id": "toewHpZ75qnX"
      },
      "source": [
        "R = R[n:2*n]"
      ],
      "execution_count": 242,
      "outputs": []
    },
    {
      "cell_type": "code",
      "metadata": {
        "id": "GFjeKXL37wno"
      },
      "source": [
        "R = toeplitz(R)"
      ],
      "execution_count": 243,
      "outputs": []
    },
    {
      "cell_type": "code",
      "metadata": {
        "colab": {
          "base_uri": "https://localhost:8080/"
        },
        "id": "yitMDduiFJK-",
        "outputId": "132f9410-ac8a-4a80-ab7e-ad2e90b5eb5a"
      },
      "source": [
        "R"
      ],
      "execution_count": 244,
      "outputs": [
        {
          "output_type": "execute_result",
          "data": {
            "text/plain": [
              "array([[-0.19043675, -1.13764981, -0.27253211, ...,  0.71147154,\n",
              "         1.71289901,  1.57656616],\n",
              "       [-1.13764981, -0.19043675, -1.13764981, ...,  0.99981925,\n",
              "         0.71147154,  1.71289901],\n",
              "       [-0.27253211, -1.13764981, -0.19043675, ...,  0.27323497,\n",
              "         0.99981925,  0.71147154],\n",
              "       ...,\n",
              "       [ 0.71147154,  0.99981925,  0.27323497, ..., -0.19043675,\n",
              "        -1.13764981, -0.27253211],\n",
              "       [ 1.71289901,  0.71147154,  0.99981925, ..., -1.13764981,\n",
              "        -0.19043675, -1.13764981],\n",
              "       [ 1.57656616,  1.71289901,  0.71147154, ..., -0.27253211,\n",
              "        -1.13764981, -0.19043675]])"
            ]
          },
          "metadata": {
            "tags": []
          },
          "execution_count": 244
        }
      ]
    },
    {
      "cell_type": "code",
      "metadata": {
        "id": "cDB6FLvv8Y-Y"
      },
      "source": [
        "w0 = np.matmul((np.linalg.inv(R)), p)\n",
        "#w0 = np.asmatrix(w0)"
      ],
      "execution_count": 245,
      "outputs": []
    },
    {
      "cell_type": "code",
      "metadata": {
        "id": "g20ER7WK7Rj1"
      },
      "source": [
        "w0 = w0.reshape(n)"
      ],
      "execution_count": 246,
      "outputs": []
    },
    {
      "cell_type": "code",
      "metadata": {
        "id": "5TjnmnSp9L3w"
      },
      "source": [
        "error = np.zeros((L, 1))\n",
        "#error = np.asmatrix(error)\n",
        "\n",
        "s = np.append([0], noise)\n",
        "#s = np.asmatrix(s)\n",
        "\n",
        "w1 = -1*np.ones((n, 1))\n",
        "#w1 = np.asmatrix(w1)\n",
        "\n",
        "m = 0.001\n",
        "\n",
        "wt = np.zeros((n, L))\n",
        "#wt = np.asmatrix(wt)\n",
        "wt[:,0] = w0"
      ],
      "execution_count": 247,
      "outputs": []
    },
    {
      "cell_type": "code",
      "metadata": {
        "id": "5q2iFxaFD6Kc"
      },
      "source": [
        "w1 = np.float64(w1)"
      ],
      "execution_count": 202,
      "outputs": []
    },
    {
      "cell_type": "code",
      "metadata": {
        "id": "Pakr9s5vBpKz"
      },
      "source": [
        "for i in np.arange(n, L,1):\n",
        "  w1 = w1 + m*(p- np.matmul(R,w1))\n",
        "  wt[:, i] = w1.reshape(n)\n",
        "  temp_s = s[i-(n-1):i+1][::-1]\n",
        "  error[i] = np.dot(temp_s, w0)"
      ],
      "execution_count": 248,
      "outputs": []
    },
    {
      "cell_type": "code",
      "metadata": {
        "id": "TvVf8tupWDxl"
      },
      "source": [
        "e = error"
      ],
      "execution_count": 249,
      "outputs": []
    },
    {
      "cell_type": "code",
      "metadata": {
        "id": "pRfcAPk5WsaU"
      },
      "source": [
        "e = np.squeeze(np.asarray(e[1:L]))"
      ],
      "execution_count": 250,
      "outputs": []
    },
    {
      "cell_type": "code",
      "metadata": {
        "id": "gYWx8CiBXGe7"
      },
      "source": [
        "e = np.append(e,0)"
      ],
      "execution_count": 251,
      "outputs": []
    },
    {
      "cell_type": "code",
      "metadata": {
        "id": "jHqOGPIXYduo"
      },
      "source": [
        "denoised = noisySig - e"
      ],
      "execution_count": 252,
      "outputs": []
    },
    {
      "cell_type": "code",
      "metadata": {
        "id": "NsUFw1ggaigj"
      },
      "source": [
        "wavfile.write('denoised_Abr.wav', Fs, denoised)"
      ],
      "execution_count": 253,
      "outputs": []
    },
    {
      "cell_type": "code",
      "metadata": {
        "id": "Xh1OXS0qb8WX"
      },
      "source": [
        "SNR_noisy = np.sum(np.square(signal))/np.sum(np.square(noise))"
      ],
      "execution_count": 254,
      "outputs": []
    },
    {
      "cell_type": "code",
      "metadata": {
        "colab": {
          "base_uri": "https://localhost:8080/"
        },
        "id": "YbfL7fzXfrYJ",
        "outputId": "2f996989-2838-4846-d5db-df762158df62"
      },
      "source": [
        "SNR_noisy"
      ],
      "execution_count": 256,
      "outputs": [
        {
          "output_type": "execute_result",
          "data": {
            "text/plain": [
              "0.26571320992526054"
            ]
          },
          "metadata": {
            "tags": []
          },
          "execution_count": 256
        }
      ]
    },
    {
      "cell_type": "code",
      "metadata": {
        "id": "4UceHp0Ij9pj"
      },
      "source": [
        "remainedNoise = denoised - signal"
      ],
      "execution_count": 257,
      "outputs": []
    },
    {
      "cell_type": "code",
      "metadata": {
        "id": "qPxwCSnakhkB"
      },
      "source": [
        "SNR_denoised = np.sum(np.square(signal))/np.sum(np.square(remainedNoise))"
      ],
      "execution_count": 258,
      "outputs": []
    },
    {
      "cell_type": "code",
      "metadata": {
        "colab": {
          "base_uri": "https://localhost:8080/"
        },
        "id": "AUt3wNI_ksIO",
        "outputId": "e2922ae5-a517-493f-d10b-bff951770870"
      },
      "source": [
        "SNR_denoised"
      ],
      "execution_count": 259,
      "outputs": [
        {
          "output_type": "execute_result",
          "data": {
            "text/plain": [
              "0.2679141987559448"
            ]
          },
          "metadata": {
            "tags": []
          },
          "execution_count": 259
        }
      ]
    }
  ]
}