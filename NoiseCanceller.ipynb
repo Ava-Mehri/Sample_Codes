{
  "nbformat": 4,
  "nbformat_minor": 0,
  "metadata": {
    "colab": {
      "name": "NoiseCanceller.ipynb",
      "provenance": [],
      "collapsed_sections": []
    },
    "kernelspec": {
      "name": "python3",
      "display_name": "Python 3"
    },
    "language_info": {
      "name": "python"
    }
  },
  "cells": [
    {
      "cell_type": "code",
      "metadata": {
        "id": "pid-n2lv4U80"
      },
      "source": [
        "#!pip install pycorrelate"
      ],
      "execution_count": null,
      "outputs": []
    },
    {
      "cell_type": "code",
      "metadata": {
        "id": "YHTswsY9iXVp"
      },
      "source": [
        "from scipy.io import wavfile\n",
        "from scipy import signal\n",
        "from scipy.linalg import toeplitz\n",
        "import numpy as np\n",
        "import pycorrelate as pyc"
      ],
      "execution_count": null,
      "outputs": []
    },
    {
      "cell_type": "code",
      "metadata": {
        "id": "i2-_i_6LlPkN"
      },
      "source": [
        "Fs, signal = wavfile.read('Abr.wav')"
      ],
      "execution_count": null,
      "outputs": []
    },
    {
      "cell_type": "code",
      "metadata": {
        "colab": {
          "base_uri": "https://localhost:8080/"
        },
        "id": "mMOghdkYliGH",
        "outputId": "47111b25-b26c-44cc-e4b1-c3432da1703a"
      },
      "source": [
        "signal_len = len(signal)\n",
        "signal_len"
      ],
      "execution_count": null,
      "outputs": [
        {
          "output_type": "execute_result",
          "data": {
            "text/plain": [
              "10812144"
            ]
          },
          "metadata": {
            "tags": []
          },
          "execution_count": 52
        }
      ]
    },
    {
      "cell_type": "code",
      "metadata": {
        "id": "eJrscXJRMYT1"
      },
      "source": [
        "signal = np.array(signal[0:1400000, 1])\n",
        "l = len(signal)"
      ],
      "execution_count": null,
      "outputs": []
    },
    {
      "cell_type": "code",
      "metadata": {
        "id": "W8jTZuBkir-a"
      },
      "source": [
        "signal = signal/max(signal)"
      ],
      "execution_count": null,
      "outputs": []
    },
    {
      "cell_type": "code",
      "metadata": {
        "id": "4JIGDDg7ojhR"
      },
      "source": [
        "var = 0.1\n",
        "noise = np.sqrt(var)*np.random.randn(l)"
      ],
      "execution_count": null,
      "outputs": []
    },
    {
      "cell_type": "code",
      "metadata": {
        "id": "IEalzg8iosGy"
      },
      "source": [
        "noisySig = signal + noise;"
      ],
      "execution_count": null,
      "outputs": []
    },
    {
      "cell_type": "code",
      "metadata": {
        "id": "hT6ASDhHq04U"
      },
      "source": [
        "wavfile.write('noisy_Abr.wav', Fs, noisySig)"
      ],
      "execution_count": null,
      "outputs": []
    },
    {
      "cell_type": "code",
      "metadata": {
        "id": "s_vVKWWIuZdm"
      },
      "source": [
        "n = 100\n",
        "k = 10000"
      ],
      "execution_count": null,
      "outputs": []
    },
    {
      "cell_type": "code",
      "metadata": {
        "id": "j-AJHU9cuzTX"
      },
      "source": [
        "p = np.zeros((n, 1))\n",
        "p[1] = var\n",
        "p = np.asmatrix(p)"
      ],
      "execution_count": null,
      "outputs": []
    },
    {
      "cell_type": "code",
      "metadata": {
        "id": "PON590EvvnqF"
      },
      "source": [
        "R = pyc.ucorrelate(noise, noise, maxlag=2*n)"
      ],
      "execution_count": null,
      "outputs": []
    },
    {
      "cell_type": "code",
      "metadata": {
        "id": "toewHpZ75qnX"
      },
      "source": [
        "R = R[n:2*n]"
      ],
      "execution_count": null,
      "outputs": []
    },
    {
      "cell_type": "code",
      "metadata": {
        "id": "GFjeKXL37wno"
      },
      "source": [
        "R = toeplitz(R)"
      ],
      "execution_count": null,
      "outputs": []
    },
    {
      "cell_type": "code",
      "metadata": {
        "id": "cDB6FLvv8Y-Y"
      },
      "source": [
        "w0 = np.matmul((np.linalg.inv(R)), p)\n",
        "w0 = np.asmatrix(w0)"
      ],
      "execution_count": null,
      "outputs": []
    },
    {
      "cell_type": "code",
      "metadata": {
        "id": "5TjnmnSp9L3w"
      },
      "source": [
        "error = np.zeros((l, 1))\n",
        "error = np.asmatrix(error)\n",
        "\n",
        "s = np.append([0], noise)\n",
        "s = np.asmatrix(s)\n",
        "\n",
        "w1 = -2*np.ones((n, 1))\n",
        "w1 = np.asmatrix(w1)\n",
        "\n",
        "m = 0.001\n",
        "\n",
        "wt = np.zeros((n, l))\n",
        "wt = np.asmatrix(wt)\n",
        "wt[:,0] = w0"
      ],
      "execution_count": null,
      "outputs": []
    },
    {
      "cell_type": "code",
      "metadata": {
        "id": "Pakr9s5vBpKz"
      },
      "source": [
        "for column in range(n, l):\n",
        "  w1 = w1 + m*(p- np.matmul(R,w1))\n",
        "  wt[:, column] = w1\n",
        "  temp_s = np.flip(s[:, column-n:column])\n",
        "  error[column] = np.matmul(temp_s, w0)"
      ],
      "execution_count": null,
      "outputs": []
    },
    {
      "cell_type": "code",
      "metadata": {
        "colab": {
          "base_uri": "https://localhost:8080/"
        },
        "id": "8bRZFbsDIsb-",
        "outputId": "067a8c7f-8657-4372-cc36-eb092408f122"
      },
      "source": [
        "error.shape"
      ],
      "execution_count": null,
      "outputs": [
        {
          "output_type": "execute_result",
          "data": {
            "text/plain": [
              "(1400000, 1)"
            ]
          },
          "metadata": {
            "tags": []
          },
          "execution_count": 72
        }
      ]
    },
    {
      "cell_type": "code",
      "metadata": {
        "id": "TvVf8tupWDxl"
      },
      "source": [
        "e = error"
      ],
      "execution_count": null,
      "outputs": []
    },
    {
      "cell_type": "code",
      "metadata": {
        "id": "pRfcAPk5WsaU"
      },
      "source": [
        "e = np.squeeze(np.asarray(e[1:l]))"
      ],
      "execution_count": null,
      "outputs": []
    },
    {
      "cell_type": "code",
      "metadata": {
        "id": "gYWx8CiBXGe7"
      },
      "source": [
        "e = np.append(e,0)"
      ],
      "execution_count": null,
      "outputs": []
    },
    {
      "cell_type": "code",
      "metadata": {
        "id": "jHqOGPIXYduo"
      },
      "source": [
        "denoised = noisySig - e"
      ],
      "execution_count": null,
      "outputs": []
    },
    {
      "cell_type": "code",
      "metadata": {
        "id": "NsUFw1ggaigj"
      },
      "source": [
        "wavfile.write('denoised_Abr.wav', Fs, denoised)"
      ],
      "execution_count": null,
      "outputs": []
    },
    {
      "cell_type": "code",
      "metadata": {
        "id": "Xh1OXS0qb8WX"
      },
      "source": [
        "SNR_noisy = np.sum(np.square(signal))/np.sum(np.square(noise))"
      ],
      "execution_count": null,
      "outputs": []
    },
    {
      "cell_type": "code",
      "metadata": {
        "colab": {
          "base_uri": "https://localhost:8080/"
        },
        "id": "YbfL7fzXfrYJ",
        "outputId": "b92fe443-ab86-45cb-fe3b-22515cefbbb6"
      },
      "source": [
        "SNR_noisy"
      ],
      "execution_count": null,
      "outputs": [
        {
          "output_type": "execute_result",
          "data": {
            "text/plain": [
              "0.8996901819523825"
            ]
          },
          "metadata": {
            "tags": []
          },
          "execution_count": 94
        }
      ]
    },
    {
      "cell_type": "code",
      "metadata": {
        "id": "4UceHp0Ij9pj"
      },
      "source": [
        "remainedNoise = denoised - signal"
      ],
      "execution_count": null,
      "outputs": []
    },
    {
      "cell_type": "code",
      "metadata": {
        "id": "qPxwCSnakhkB"
      },
      "source": [
        "SNR_denoised = np.sum(np.square(signal))/np.sum(np.square(remainedNoise))"
      ],
      "execution_count": null,
      "outputs": []
    },
    {
      "cell_type": "code",
      "metadata": {
        "colab": {
          "base_uri": "https://localhost:8080/"
        },
        "id": "AUt3wNI_ksIO",
        "outputId": "16daac6f-37bf-4d9c-eb41-40af734e913e"
      },
      "source": [
        "SNR_denoised"
      ],
      "execution_count": null,
      "outputs": [
        {
          "output_type": "execute_result",
          "data": {
            "text/plain": [
              "0.8996869002983738"
            ]
          },
          "metadata": {
            "tags": []
          },
          "execution_count": 96
        }
      ]
    }
  ]
}