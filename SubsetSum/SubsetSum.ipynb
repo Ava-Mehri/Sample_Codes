{
 "cells": [
  {
   "cell_type": "code",
   "execution_count": 1,
   "metadata": {},
   "outputs": [],
   "source": [
    "#Ava Mehri, UIC, amehri2@uic.edu, 2021\n",
    "#Subset Sum Problem\n",
    "#A dynamic-programming algorithm for the subset-sum problem\n",
    "#extracts the number of distinct subsets yielding the target sum, \n",
    "#the size of the smallest subset yielding the target sum and the number of such subsets, \n",
    "#and the lexicographically first subset of the smallest size yielding the target sum."
   ]
  },
  {
   "cell_type": "code",
   "execution_count": 2,
   "metadata": {
    "id": "WuqB7CCLdYqG"
   },
   "outputs": [],
   "source": [
    "def main(Target, Input_File):\n",
    "  #open the input file and store it\n",
    "  file = open(Input_File, 'r').read()\n",
    "  #read the file line by line and store lines in a list\n",
    "  for line in file:\n",
    "    lines = file.split('\\n')\n",
    "  if (lines[-1] == ''):\n",
    "    lines = lines[0:-1]\n",
    "\n",
    "  #N is the length of the array and T is the Target-sum\n",
    "  N = len(lines)\n",
    "  T = Target\n",
    "\n",
    "  S = [[None for i in range(T+1)] for j in range(N)]\n",
    "  Num_Feasible = [[0 for i in range(T+1)] for j in range(N)]\n",
    "  Smallest_Size = [[0 for i in range(T+1)] for j in range(N)]\n",
    "  Num_Smallest_Size = [[0 for i in range(T+1)] for j in range(N)]\n",
    "  First_Min_Subset_Indx = [[[] for i in range(T+1)] for j in range(N)]\n",
    "\n",
    "\n",
    "  for i in range(N):\n",
    "    S[i][0] = True\n",
    "    Num_Feasible[i][0] = 1\n",
    "    Num_Smallest_Size[i][0] = 1\n",
    "\n",
    "  for j in range(1,T+1):\n",
    "    if (j == int(lines[0].split()[0])):\n",
    "      S[0][j] = True\n",
    "      Num_Feasible[0][j] = 1\n",
    "      Smallest_Size[0][j] = 1\n",
    "      Num_Smallest_Size[0][j] = 1\n",
    "      First_Min_Subset_Indx[0][j].append(0)\n",
    "    else:\n",
    "      S[0][j] = False\n",
    "\n",
    "  for i in range(1,N):\n",
    "    a_i = int(lines[i].split()[0])\n",
    "    for j in range(1,T+1):\n",
    "      if (S[i-1][j] or ( a_i <= j and S[i-1][j-a_i] )):\n",
    "        #populating table S[i][j], S[i][j] is True if there is at least 1 subset in A[0:i] such that sum of its elements is j\n",
    "        S[i][j] = True\n",
    "        #populating table Num_Feasible[i][j], Num_Feasible[i][j] shows the number of subsets of the set A[0:i] such that sum of elements of each of those subsets is j\n",
    "        temp_num = 0\n",
    "        if (a_i <= j):\n",
    "          temp_num = Num_Feasible[i-1][j-a_i]        \n",
    "        Num_Feasible[i][j] = Num_Feasible[i-1][j] + temp_num\n",
    "\n",
    "        #populating table Smallest_Size[i][j], Smallest_Size[i][j] shows size of the smallest subset of the set A[0:i] that sum of its elements is j\n",
    "        if (S[i-1][j] and ( a_i <= j and S[i-1][j-a_i] )):\n",
    "          Smallest_Size[i][j] = min(Smallest_Size[i-1][j], Smallest_Size[i-1][j-a_i]+1)\n",
    "        elif (S[i-1][j]):\n",
    "          Smallest_Size[i][j] = Smallest_Size[i-1][j]\n",
    "        elif (a_i <= j and S[i-1][j-a_i] ):\n",
    "          Smallest_Size[i][j] = Smallest_Size[i-1][j-a_i]+1\n",
    "\n",
    "        #populating table Num_Smallest_Size[i][j], Num_Smallest_Size[i][j] shows the number of the smallest subsets of the set A[0:i] which sum of elements of each of those subsets is j\n",
    "        if (S[i-1][j] and ( a_i <= j and S[i-1][j-a_i] )):\n",
    "          if (Smallest_Size[i-1][j] == Smallest_Size[i-1][j-a_i]+1):\n",
    "            Num_Smallest_Size[i][j] = Num_Smallest_Size[i-1][j] + Num_Smallest_Size[i-1][j-a_i]\n",
    "          elif (Smallest_Size[i-1][j] < Smallest_Size[i-1][j-a_i]+1):\n",
    "            Num_Smallest_Size[i][j] = Num_Smallest_Size[i-1][j]\n",
    "          else:\n",
    "            Num_Smallest_Size[i][j] = Num_Smallest_Size[i-1][j-a_i]\n",
    "        elif (S[i-1][j]):\n",
    "          Num_Smallest_Size[i][j] = Num_Smallest_Size[i-1][j]\n",
    "        elif (a_i <= j and S[i-1][j-a_i] ):\n",
    "          Num_Smallest_Size[i][j] = Num_Smallest_Size[i-1][j-a_i]\n",
    "\n",
    "        #populating table First_Min_Subset_Indx[i][j], First_Min_Subset_Indx[i][j] shows lexicographically first subset of the set A[0:i] such that sum of its elements is j\n",
    "        if (S[i-1][j] and ( a_i <= j and S[i-1][j-a_i] )):\n",
    "          if (Smallest_Size[i-1][j] == Smallest_Size[i-1][j-a_i]+1):\n",
    "            temp_First_1 = First_Min_Subset_Indx[i-1][j-a_i] + [i]\n",
    "            temp_First_2 = First_Min_Subset_Indx[i-1][j]\n",
    "            if (temp_First_1[0] < temp_First_2[0]):\n",
    "              First_Min_Subset_Indx [i][j] = temp_First_1\n",
    "            else:\n",
    "              First_Min_Subset_Indx [i][j] = temp_First_2\n",
    "          elif (Smallest_Size[i-1][j] < Smallest_Size[i-1][j-a_i]+1):\n",
    "            First_Min_Subset_Indx [i][j] = First_Min_Subset_Indx[i-1][j]\n",
    "          else:\n",
    "            First_Min_Subset_Indx [i][j] = First_Min_Subset_Indx[i-1][j-a_i] + [i]\n",
    "\n",
    "        elif (S[i-1][j]):\n",
    "          First_Min_Subset_Indx [i][j] = First_Min_Subset_Indx[i-1][j]\n",
    "        elif (a_i <= j and S[i-1][j-a_i] ):\n",
    "          First_Min_Subset_Indx [i][j] = First_Min_Subset_Indx[i-1][j-a_i] + [i]\n",
    "\n",
    "        \n",
    "\n",
    "      else:\n",
    "        S[i][j] = False\n",
    "\n",
    "  Lexico_First = []\n",
    "  for each in First_Min_Subset_Indx[-1][-1]:\n",
    "    Lexico_First = Lexico_First + [[each, lines[each]]]\n",
    "\n",
    "  print(f'Num_Elements = {N}')\n",
    "  print(f'Target = {T}')\n",
    "  print(f'Num_Feasible = {Num_Feasible[-1][-1]}')\n",
    "  print(f'Smallest_Size = {Smallest_Size[-1][-1]}')\n",
    "  print(f'Num_Smallest_Size = {Num_Smallest_Size[-1][-1]}')\n",
    "  print(f'Lexico_First Subset = ')\n",
    "  for i in range(len(Lexico_First)):\n",
    "    print(f'{Lexico_First[i]}')\n"
   ]
  },
  {
   "cell_type": "code",
   "execution_count": 3,
   "metadata": {
    "colab": {
     "base_uri": "https://localhost:8080/"
    },
    "id": "EHFbId_090a1",
    "outputId": "5ffe427a-6b93-4542-83cd-1f7fc269ee00"
   },
   "outputs": [
    {
     "name": "stdout",
     "output_type": "stream",
     "text": [
      "Num_Elements = 6\n",
      "Target = 5\n",
      "Num_Feasible = 8\n",
      "Smallest_Size = 2\n",
      "Num_Smallest_Size = 4\n",
      "Lexico_First Subset = \n",
      "[0, '1 dog']\n",
      "[5, '4 fish']\n"
     ]
    }
   ],
   "source": [
    "main(5,'toy.txt')"
   ]
  },
  {
   "cell_type": "code",
   "execution_count": 4,
   "metadata": {
    "colab": {
     "base_uri": "https://localhost:8080/"
    },
    "id": "SqO6HiOJ-8Sz",
    "outputId": "d542ae3d-1f78-4c61-b965-193a10f8022b"
   },
   "outputs": [
    {
     "name": "stdout",
     "output_type": "stream",
     "text": [
      "Num_Elements = 51\n",
      "Target = 269\n",
      "Num_Feasible = 16976480564070\n",
      "Smallest_Size = 11\n",
      "Num_Smallest_Size = 1\n",
      "Lexico_First Subset = \n",
      "[4, '55 CA']\n",
      "[9, '29 FL']\n",
      "[10, '16 GA']\n",
      "[13, '20 IL']\n",
      "[22, '16 MI']\n",
      "[32, '29 NY']\n",
      "[33, '15 NC']\n",
      "[35, '18 OH']\n",
      "[38, '20 PA']\n",
      "[43, '38 TX']\n",
      "[46, '13 VA']\n"
     ]
    }
   ],
   "source": [
    "main(269,'electoral.txt')"
   ]
  },
  {
   "cell_type": "code",
   "execution_count": 5,
   "metadata": {
    "colab": {
     "base_uri": "https://localhost:8080/"
    },
    "id": "ThTNPz6lAY97",
    "outputId": "4793582a-35c6-46ab-9bd5-5f29a98850f6"
   },
   "outputs": [
    {
     "name": "stdout",
     "output_type": "stream",
     "text": [
      "Num_Elements = 31\n",
      "Target = 220\n",
      "Num_Feasible = 9958625\n",
      "Smallest_Size = 13\n",
      "Num_Smallest_Size = 57\n",
      "Lexico_First Subset = \n",
      "[0, '11 AZ']\n",
      "[2, '9 CO']\n",
      "[5, '29 FL']\n",
      "[6, '16 GA']\n",
      "[7, '11 IN']\n",
      "[12, '16 MI']\n",
      "[13, '10 MN']\n",
      "[19, '14 NJ']\n",
      "[20, '15 NC']\n",
      "[21, '18 OH']\n",
      "[23, '20 PA']\n",
      "[26, '38 TX']\n",
      "[27, '13 VA']\n"
     ]
    }
   ],
   "source": [
    "main(220,'purple.txt')"
   ]
  },
  {
   "cell_type": "code",
   "execution_count": 6,
   "metadata": {
    "colab": {
     "base_uri": "https://localhost:8080/"
    },
    "id": "-sewtSc8AmEx",
    "outputId": "a199a140-5dd5-4436-c635-33b17b008099"
   },
   "outputs": [
    {
     "name": "stdout",
     "output_type": "stream",
     "text": [
      "Num_Elements = 31\n",
      "Target = 121\n",
      "Num_Feasible = 9958625\n",
      "Smallest_Size = 5\n",
      "Num_Smallest_Size = 2\n",
      "Lexico_First Subset = \n",
      "[5, '29 FL']\n",
      "[6, '16 GA']\n",
      "[21, '18 OH']\n",
      "[23, '20 PA']\n",
      "[26, '38 TX']\n"
     ]
    }
   ],
   "source": [
    "main(121,'purple.txt')"
   ]
  },
  {
   "cell_type": "code",
   "execution_count": null,
   "metadata": {},
   "outputs": [],
   "source": []
  }
 ],
 "metadata": {
  "colab": {
   "collapsed_sections": [],
   "name": "CS401-P1.ipynb",
   "provenance": []
  },
  "kernelspec": {
   "display_name": "myenv",
   "language": "python",
   "name": "myenv"
  },
  "language_info": {
   "codemirror_mode": {
    "name": "ipython",
    "version": 3
   },
   "file_extension": ".py",
   "mimetype": "text/x-python",
   "name": "python",
   "nbconvert_exporter": "python",
   "pygments_lexer": "ipython3",
   "version": "3.8.0"
  }
 },
 "nbformat": 4,
 "nbformat_minor": 1
}
